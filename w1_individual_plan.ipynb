{
 "cells": [
  {
   "cell_type": "markdown",
   "id": "9399c5ac-3ea3-455e-bf2e-7dbf31bd65e6",
   "metadata": {},
   "source": [
    "# Individual Learning Plan\n",
    "_Hung Dung Ngo 1412825_\n",
    "\n",
    "## 1. Background\n",
    "I am a student of economics and management, focusing on tourism. I studied and worked in the tourism industry for 8 years in Japan before attending the current master's in tourism economics in Italy. Throughout my studies and work, I tend to look for data to back up assertions, and try to look for patterns in both business and daily life. I am writing a thesis on multi-modal transportation in tourism context, and would greatly benefit from skills to collect, visualise and analyse spatial data.  \n",
    "\n",
    "I have dabbled in data analysis before but it was limited to data frames and basic statistical processes. Therefore, I look forward to working with spatial and environmental data for the first time. I would like to know the overview of spatial data, including sources, formats, and types of information. It would be great to become able to gather, visualise and make sense of them. Most importantly, through the course I look forward to meeting members with different expertise, to learn how they apply data science in their work. \n",
    "\n",
    "## 2. Skills\n",
    "#### 1. Understanding data sources, including collecting devices, and where and how data is available\n",
    "Having never worked with spatial data before, I do not have a good understanding of what kind of data is out there. After the course, I will have obtained basic knowledge about the sources of data, what forms or formats they come in, and which platforms provide them. I will write a short essay summarising the state of spatial data as I learned about them through this project.  \n",
    "\n",
    "#### 2. Data analysis using time-series regression\n",
    "I had some experience doing simple regression analysis with tourism data. By the end of the course, I aim to be able to perform a time-series regression analysis, as well as produce predictions based on analysis. To demonstrate the progress, I will produce a Jupyter Notebook showing a common method to perform a time-series analysis of the traffic data.   \n",
    "\n",
    "#### 3. Effective knowledge communication\n",
    "With limited experience in data analysis, I do not have a clear image of how to present the findings effectively to others, especially laypeople. Through this course, I aim to be able to arrange the methods and results in an understandable manner, paired with visualisation. I will validate this with a short essay explaining the elements of effective communication and how I applied them to our project.\n",
    "\n",
    "## 3. Project NDW Realtime Road Data\n",
    "With the above personal goals, I will contribute to the project by identifying viable data sources, writing scripts to clean, wrangle and analyse data, as well as making the final product (maps, posters...), all in close collaboration with other team members.  "
   ]
  },
  {
   "cell_type": "code",
   "execution_count": null,
   "id": "c134816e-b279-426b-aa5e-1e5c5e468d00",
   "metadata": {},
   "outputs": [],
   "source": []
  }
 ],
 "metadata": {
  "kernelspec": {
   "display_name": "Python 3 (ipykernel)",
   "language": "python",
   "name": "python3"
  },
  "language_info": {
   "codemirror_mode": {
    "name": "ipython",
    "version": 3
   },
   "file_extension": ".py",
   "mimetype": "text/x-python",
   "name": "python",
   "nbconvert_exporter": "python",
   "pygments_lexer": "ipython3",
   "version": "3.12.8"
  }
 },
 "nbformat": 4,
 "nbformat_minor": 5
}
